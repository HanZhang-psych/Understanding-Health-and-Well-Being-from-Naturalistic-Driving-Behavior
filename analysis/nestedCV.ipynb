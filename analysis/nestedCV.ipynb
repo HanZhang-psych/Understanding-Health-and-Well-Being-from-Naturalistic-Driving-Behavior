{
 "cells": [
  {
   "cell_type": "code",
   "execution_count": 1,
   "id": "06b11314",
   "metadata": {},
   "outputs": [],
   "source": [
    "import pandas as pd\n",
    "import numpy as np\n",
    "from sklearn.preprocessing import StandardScaler, OneHotEncoder\n",
    "from sklearn.linear_model import RidgeCV, Ridge\n",
    "from sklearn.model_selection import KFold, LeaveOneOut\n",
    "from sklearn.pipeline import make_pipeline\n",
    "from sklearn.compose import make_column_transformer, ColumnTransformer, TransformedTargetRegressor\n",
    "from tqdm.notebook import tqdm\n",
    "from scipy import stats\n",
    "from scipy.special import exp10"
   ]
  },
  {
   "cell_type": "code",
   "execution_count": 2,
   "id": "5e42b35c",
   "metadata": {},
   "outputs": [],
   "source": [
    "# Read the CSV file\n",
    "dat = pd.read_csv('../data/subject_level_data_for_analysis.csv')"
   ]
  },
  {
   "cell_type": "code",
   "execution_count": 3,
   "id": "bef08eb7",
   "metadata": {},
   "outputs": [],
   "source": [
    "# column names\n",
    "ivs = ['DaysDriving',\n",
    "        'Miles_n',\n",
    "        \"Trips\", \n",
    "        \"TripMinutes_n\",\n",
    "        \"TripChains\",\n",
    "        \"MilesPerTrip_n\", \n",
    "        \"MinutesPerTrip_n\",\n",
    "        \"MilesPerChain_n\",  \n",
    "        \"MinutesPerChain_n\", \n",
    "        \"Average_speed\",\n",
    "        \"LeftTurnCount\", \n",
    "        \"RightToLeftTurnRatio_n\",\n",
    "        \"TripsAMPeak\", \n",
    "        \"PercentTripsAMPeak_n\",\n",
    "        \"TripsPMPeak\", \n",
    "        \"PercentTripsPMPeak_n\",  \n",
    "        \"TripsAtNight\", \n",
    "        \"PercentTripsAtNight_n\",\n",
    "        \"TripsLt15Miles\", \n",
    "        \"PercentDistLt15Miles_n\",\n",
    "        \"TripsVgt60\", \n",
    "        \"PercentTripsVgt60_n\", \n",
    "        \"SpeedingPer1000Miles\", \n",
    "        \"DecelerationPer1000Miles\"]\n",
    "\n",
    "dvs = ['LIFESATISFACTION','cog','phys','fati','socialrole', 'info', 'emo', 'iso', 'ins', 'anx','dep','ang']\n",
    "\n",
    "demos_cat = ['Site', 'GENDER', 'RACE_ETH', 'WORK', 'MARRIAGE']\n",
    "demos_num = ['Age', 'EDUCATION', 'INCOME']\n",
    "\n",
    "# convert variables to categories\n",
    "categorical_cols = ['XID'] + demos_cat\n",
    "for col in categorical_cols:\n",
    "    if col in dat.columns:\n",
    "        dat[col] = dat[col].astype('category')\n",
    "\n",
    "# scale all dependent variables\n",
    "dat[dvs] = dat[dvs].apply(lambda x: (x - x.mean()) / x.std(ddof=1))"
   ]
  },
  {
   "cell_type": "code",
   "execution_count": 4,
   "id": "b5dd1520",
   "metadata": {},
   "outputs": [
    {
     "name": "stdout",
     "output_type": "stream",
     "text": [
      "<class 'pandas.core.frame.DataFrame'>\n",
      "RangeIndex: 2658 entries, 0 to 2657\n",
      "Data columns (total 47 columns):\n",
      " #   Column                    Non-Null Count  Dtype   \n",
      "---  ------                    --------------  -----   \n",
      " 0   XID                       2658 non-null   category\n",
      " 1   n_sessions                2658 non-null   int64   \n",
      " 2   n_months                  2658 non-null   int64   \n",
      " 3   DaysDriving               2658 non-null   float64 \n",
      " 4   Miles_n                   2658 non-null   float64 \n",
      " 5   Trips                     2658 non-null   float64 \n",
      " 6   TripMinutes_n             2658 non-null   float64 \n",
      " 7   TripChains                2658 non-null   float64 \n",
      " 8   MilesPerTrip_n            2658 non-null   float64 \n",
      " 9   MinutesPerTrip_n          2658 non-null   float64 \n",
      " 10  MilesPerChain_n           2658 non-null   float64 \n",
      " 11  MinutesPerChain_n         2658 non-null   float64 \n",
      " 12  Average_speed             2658 non-null   float64 \n",
      " 13  LeftTurnCount             2658 non-null   float64 \n",
      " 14  RightToLeftTurnRatio_n    2658 non-null   float64 \n",
      " 15  TripsAMPeak               2658 non-null   float64 \n",
      " 16  PercentTripsAMPeak_n      2658 non-null   float64 \n",
      " 17  TripsPMPeak               2658 non-null   float64 \n",
      " 18  PercentTripsPMPeak_n      2658 non-null   float64 \n",
      " 19  TripsAtNight              2658 non-null   float64 \n",
      " 20  PercentTripsAtNight_n     2658 non-null   float64 \n",
      " 21  TripsLt15Miles            2658 non-null   float64 \n",
      " 22  PercentDistLt15Miles_n    2658 non-null   float64 \n",
      " 23  TripsVgt60                2658 non-null   float64 \n",
      " 24  PercentTripsVgt60_n       2658 non-null   float64 \n",
      " 25  SpeedingPer1000Miles      2658 non-null   float64 \n",
      " 26  DecelerationPer1000Miles  2658 non-null   float64 \n",
      " 27  LIFESATISFACTION          2658 non-null   float64 \n",
      " 28  cog                       2658 non-null   float64 \n",
      " 29  phys                      2658 non-null   float64 \n",
      " 30  fati                      2658 non-null   float64 \n",
      " 31  socialrole                2658 non-null   float64 \n",
      " 32  iso                       2658 non-null   float64 \n",
      " 33  info                      2658 non-null   float64 \n",
      " 34  emo                       2658 non-null   float64 \n",
      " 35  ins                       2658 non-null   float64 \n",
      " 36  dep                       2658 non-null   float64 \n",
      " 37  anx                       2658 non-null   float64 \n",
      " 38  ang                       2658 non-null   float64 \n",
      " 39  Site                      2658 non-null   category\n",
      " 40  Age                       2658 non-null   int64   \n",
      " 41  GENDER                    2658 non-null   category\n",
      " 42  RACE_ETH                  2658 non-null   category\n",
      " 43  EDUCATION                 2658 non-null   int64   \n",
      " 44  INCOME                    2658 non-null   int64   \n",
      " 45  WORK                      2658 non-null   category\n",
      " 46  MARRIAGE                  2658 non-null   category\n",
      "dtypes: category(6), float64(36), int64(5)\n",
      "memory usage: 956.0 KB\n"
     ]
    }
   ],
   "source": [
    "dat.info()"
   ]
  },
  {
   "cell_type": "code",
   "execution_count": 5,
   "id": "b28fe229",
   "metadata": {},
   "outputs": [],
   "source": [
    "def nested_kfold_ridge(data, numeric_ivs, categorical_ivs, dv, id_col, alphas=None, random_state=0, n_splits_outer=10):\n",
    "    \"\"\"\n",
    "    Nested k-fold CV for Ridge regression with mixed numeric + categorical predictors.\n",
    "    \"\"\"\n",
    "    if alphas is None:\n",
    "        alphas = np.logspace(np.log10(0.01), np.log10(500), 100)\n",
    "\n",
    "    X = data[numeric_ivs + categorical_ivs]\n",
    "    y = data[dv].values\n",
    "    ids = data[id_col].values\n",
    "\n",
    "    # Outer loop CV\n",
    "    outer_cv = KFold(n_splits=n_splits_outer, shuffle=True, random_state=random_state)\n",
    "\n",
    "    n = len(data)\n",
    "    errors = np.full(n, np.nan)\n",
    "    best_alphas = np.full(n, np.nan)\n",
    "    folds = np.full(n, np.nan)\n",
    "\n",
    "    for fold_idx, (train_idx, test_idx) in enumerate(tqdm(outer_cv.split(X), total=n_splits_outer, desc=\"Outer CV\")):\n",
    "        # Split into outer train/test\n",
    "        X_train, X_test = X.iloc[train_idx], X.iloc[test_idx]\n",
    "        y_train, y_test = y[train_idx], y[test_idx]\n",
    "\n",
    "        # custom preprocessor for numeric and categorical variables\n",
    "        preprocessor = make_column_transformer(\n",
    "            (StandardScaler(), numeric_ivs),\n",
    "            (OneHotEncoder(drop=\"first\"), categorical_ivs)\n",
    "            )\n",
    "\n",
    "        # Inner CV for hyperparameter tuning\n",
    "        model = make_pipeline(\n",
    "            preprocessor,\n",
    "            RidgeCV(alphas=alphas, scoring='neg_mean_squared_error'),\n",
    "            )\n",
    "        model.fit(X_train, y_train)\n",
    "\n",
    "        # Predict on outer test fold\n",
    "        y_pred = model.predict(X_test)\n",
    "\n",
    "        # Store results\n",
    "        errors[test_idx] = (y_test - y_pred) ** 2\n",
    "        best_alphas[test_idx] = model.named_steps['ridgecv'].alpha_\n",
    "        folds[test_idx] = fold_idx\n",
    "\n",
    "    # Create results dataframe\n",
    "    results = pd.DataFrame({\n",
    "        \"subject\": ids,\n",
    "        \"fold\": folds,\n",
    "        \"error\": errors,\n",
    "        \"best_alpha\": best_alphas\n",
    "    })\n",
    "\n",
    "    print('mean of best alphas: ', results.groupby('fold')['best_alpha'].first().mean())\n",
    "    print('max of best alphas: ', results.groupby('fold')['best_alpha'].first().max())\n",
    "    print('min of best alphas: ', results.groupby('fold')['best_alpha'].first().min())\n",
    "\n",
    "    return results\n",
    "\n",
    "\n",
    "# ---------- Compare Full vs Reduced ----------\n",
    "def run_nestedCV(data, dv, id_col,\n",
    "                 numeric_full, categorical_full,\n",
    "                 numeric_reduced, categorical_reduced, alphas=None,\n",
    "                 save_path=None):\n",
    "    \"\"\"\n",
    "    Compare full model (driving + demographics) vs reduced model (demographics only).\n",
    "    \"\"\"\n",
    "    # Reduced model (demographics only)\n",
    "    res_reduced = nested_kfold_ridge(data, numeric_reduced, categorical_reduced, dv, id_col, alphas=alphas)\n",
    "\n",
    "    # Full model (driving + demographics)\n",
    "    res_full = nested_kfold_ridge(data, numeric_full, categorical_full, dv, id_col, alphas=alphas)\n",
    "\n",
    "    # Merge by subject\n",
    "    res = pd.merge(res_reduced, res_full,\n",
    "                   on='subject', how='inner',\n",
    "                   suffixes=('_reduced', '_full'))\n",
    "\n",
    "    # Difference in MSE (paired)\n",
    "    res['diff'] = res['error_full'] - res['error_reduced']\n",
    "\n",
    "    # Paired one-sample t-test\n",
    "    t_stat, p_value = stats.ttest_1samp(res['diff'], 0, alternative='less')\n",
    "\n",
    "    print(f\"\\n=== Results for DV: {dv} ===\")\n",
    "    print(f\"MSE (Reduced): {res['error_reduced'].mean():.4f}\")\n",
    "    print(f\"MSE (Full):    {res['error_full'].mean():.4f}\")\n",
    "    print(f\"Difference (Full - Reduced): {res['diff'].mean():.4f}\")\n",
    "    print(f\"T-statistic = {t_stat:.3f}, P-value = {p_value:.4f}\")\n",
    "\n",
    "    # Optionally save\n",
    "    if save_path:\n",
    "        res.to_csv(f\"{save_path}/{dv}.csv\", index=False)\n",
    "\n",
    "    return res"
   ]
  },
  {
   "cell_type": "markdown",
   "id": "c690df96",
   "metadata": {},
   "source": [
    "# Driving + Demographic vs. Demographic Only"
   ]
  },
  {
   "cell_type": "code",
   "execution_count": 6,
   "id": "d0245805",
   "metadata": {},
   "outputs": [
    {
     "data": {
      "application/vnd.jupyter.widget-view+json": {
       "model_id": "41341f6745c1482a8953d69bea6aa0db",
       "version_major": 2,
       "version_minor": 0
      },
      "text/plain": [
       "Outer CV:   0%|          | 0/10 [00:00<?, ?it/s]"
      ]
     },
     "metadata": {},
     "output_type": "display_data"
    },
    {
     "name": "stdout",
     "output_type": "stream",
     "text": [
      "mean of best alphas:  91.75992929292929\n",
      "max of best alphas:  104.24373737373737\n",
      "min of best alphas:  82.42737373737374\n"
     ]
    },
    {
     "data": {
      "application/vnd.jupyter.widget-view+json": {
       "model_id": "242c26f6606e498e8984f83ddcebff9a",
       "version_major": 2,
       "version_minor": 0
      },
      "text/plain": [
       "Outer CV:   0%|          | 0/10 [00:00<?, ?it/s]"
      ]
     },
     "metadata": {},
     "output_type": "display_data"
    },
    {
     "name": "stdout",
     "output_type": "stream",
     "text": [
      "mean of best alphas:  81.94256565656566\n",
      "max of best alphas:  98.18363636363637\n",
      "min of best alphas:  58.18696969696969\n",
      "\n",
      "=== Results for DV: LIFESATISFACTION ===\n",
      "MSE (Reduced): 0.8740\n",
      "MSE (Full):    0.8374\n",
      "Difference (Full - Reduced): -0.0365\n",
      "T-statistic = -4.868, P-value = 0.0000\n"
     ]
    }
   ],
   "source": [
    "# Life Satisfaction \n",
    "alphas = np.linspace(0.01, 120, 100)\n",
    "life_satisfaction = run_nestedCV(\n",
    "    data=dat, dv = 'LIFESATISFACTION', id_col = 'XID', numeric_full = ivs+demos_num, categorical_full = demos_cat, \n",
    "    numeric_reduced = demos_num, categorical_reduced = demos_cat, alphas = alphas, save_path='cv_errors')"
   ]
  },
  {
   "cell_type": "code",
   "execution_count": 7,
   "id": "d4747a68",
   "metadata": {},
   "outputs": [
    {
     "data": {
      "application/vnd.jupyter.widget-view+json": {
       "model_id": "14364fb0b1c7467fb60b68dae1d9c0ed",
       "version_major": 2,
       "version_minor": 0
      },
      "text/plain": [
       "Outer CV:   0%|          | 0/10 [00:00<?, ?it/s]"
      ]
     },
     "metadata": {},
     "output_type": "display_data"
    },
    {
     "name": "stdout",
     "output_type": "stream",
     "text": [
      "mean of best alphas:  4.248181818181817\n",
      "max of best alphas:  5.66090909090909\n",
      "min of best alphas:  3.239090909090909\n"
     ]
    },
    {
     "data": {
      "application/vnd.jupyter.widget-view+json": {
       "model_id": "7d08c323b4f64d13a5beb8638888854b",
       "version_major": 2,
       "version_minor": 0
      },
      "text/plain": [
       "Outer CV:   0%|          | 0/10 [00:00<?, ?it/s]"
      ]
     },
     "metadata": {},
     "output_type": "display_data"
    },
    {
     "name": "stdout",
     "output_type": "stream",
     "text": [
      "mean of best alphas:  5.862727272727272\n",
      "max of best alphas:  7.477272727272727\n",
      "min of best alphas:  4.449999999999999\n",
      "\n",
      "=== Results for DV: cog ===\n",
      "MSE (Reduced): 0.8681\n",
      "MSE (Full):    0.8703\n",
      "Difference (Full - Reduced): 0.0023\n",
      "T-statistic = 0.472, P-value = 0.6814\n"
     ]
    }
   ],
   "source": [
    "# Cognitive Decline\n",
    "alphas = np.linspace(0.01, 10, 100)\n",
    "cognitive_decline = run_nestedCV(\n",
    "    data=dat, dv = 'cog', id_col = 'XID', numeric_full = ivs+demos_num, categorical_full = demos_cat, \n",
    "    numeric_reduced = demos_num, categorical_reduced = demos_cat, alphas = alphas, save_path='cv_errors')"
   ]
  },
  {
   "cell_type": "code",
   "execution_count": 8,
   "id": "fc687497",
   "metadata": {},
   "outputs": [
    {
     "data": {
      "application/vnd.jupyter.widget-view+json": {
       "model_id": "ce469b34fbf142aeae863993d74141bc",
       "version_major": 2,
       "version_minor": 0
      },
      "text/plain": [
       "Outer CV:   0%|          | 0/10 [00:00<?, ?it/s]"
      ]
     },
     "metadata": {},
     "output_type": "display_data"
    },
    {
     "name": "stdout",
     "output_type": "stream",
     "text": [
      "mean of best alphas:  203.63957575757576\n",
      "max of best alphas:  245.45636363636362\n",
      "min of best alphas:  151.520101010101\n"
     ]
    },
    {
     "data": {
      "application/vnd.jupyter.widget-view+json": {
       "model_id": "c869c20c0f534272b446f5a94cafcf03",
       "version_major": 2,
       "version_minor": 0
      },
      "text/plain": [
       "Outer CV:   0%|          | 0/10 [00:00<?, ?it/s]"
      ]
     },
     "metadata": {},
     "output_type": "display_data"
    },
    {
     "name": "stdout",
     "output_type": "stream",
     "text": [
      "mean of best alphas:  30.009000000000004\n",
      "max of best alphas:  33.34222222222222\n",
      "min of best alphas:  24.251616161616163\n",
      "\n",
      "=== Results for DV: phys ===\n",
      "MSE (Reduced): 0.9416\n",
      "MSE (Full):    0.8811\n",
      "Difference (Full - Reduced): -0.0605\n",
      "T-statistic = -5.055, P-value = 0.0000\n"
     ]
    }
   ],
   "source": [
    "# Physical Decline\n",
    "alphas = np.linspace(0.01, 300, 100)\n",
    "frailty = run_nestedCV(\n",
    "    data=dat, dv = 'phys', id_col = 'XID', numeric_full = ivs+demos_num, categorical_full = demos_cat, \n",
    "    numeric_reduced = demos_num, categorical_reduced = demos_cat, alphas = alphas, save_path='cv_errors')"
   ]
  },
  {
   "cell_type": "code",
   "execution_count": 9,
   "id": "e103b649",
   "metadata": {},
   "outputs": [
    {
     "data": {
      "application/vnd.jupyter.widget-view+json": {
       "model_id": "6906023280cc41cb8d9a4138f8372219",
       "version_major": 2,
       "version_minor": 0
      },
      "text/plain": [
       "Outer CV:   0%|          | 0/10 [00:00<?, ?it/s]"
      ]
     },
     "metadata": {},
     "output_type": "display_data"
    },
    {
     "name": "stdout",
     "output_type": "stream",
     "text": [
      "mean of best alphas:  117.88485858585857\n",
      "max of best alphas:  248.48656565656563\n",
      "min of best alphas:  63.64424242424242\n"
     ]
    },
    {
     "data": {
      "application/vnd.jupyter.widget-view+json": {
       "model_id": "01f0a51bc35f4425b3e5e9c1b4a29109",
       "version_major": 2,
       "version_minor": 0
      },
      "text/plain": [
       "Outer CV:   0%|          | 0/10 [00:00<?, ?it/s]"
      ]
     },
     "metadata": {},
     "output_type": "display_data"
    },
    {
     "name": "stdout",
     "output_type": "stream",
     "text": [
      "mean of best alphas:  64.85632323232323\n",
      "max of best alphas:  78.79525252525252\n",
      "min of best alphas:  45.4630303030303\n",
      "\n",
      "=== Results for DV: fati ===\n",
      "MSE (Reduced): 0.9797\n",
      "MSE (Full):    0.9611\n",
      "Difference (Full - Reduced): -0.0187\n",
      "T-statistic = -2.947, P-value = 0.0016\n"
     ]
    }
   ],
   "source": [
    "# Fatigue\n",
    "alphas = np.linspace(0.01, 300, 100)\n",
    "fatigue = run_nestedCV(\n",
    "    data=dat, dv = 'fati', id_col = 'XID', numeric_full = ivs+demos_num, categorical_full = demos_cat, \n",
    "    numeric_reduced = demos_num, categorical_reduced = demos_cat, alphas = alphas, save_path='cv_errors')"
   ]
  },
  {
   "cell_type": "code",
   "execution_count": 10,
   "id": "7f855fea",
   "metadata": {},
   "outputs": [
    {
     "data": {
      "application/vnd.jupyter.widget-view+json": {
       "model_id": "beb73b7c21af4a15a3cae209c3138b82",
       "version_major": 2,
       "version_minor": 0
      },
      "text/plain": [
       "Outer CV:   0%|          | 0/10 [00:00<?, ?it/s]"
      ]
     },
     "metadata": {},
     "output_type": "display_data"
    },
    {
     "name": "stdout",
     "output_type": "stream",
     "text": [
      "mean of best alphas:  191.51876767676768\n",
      "max of best alphas:  242.4261616161616\n",
      "min of best alphas:  96.97646464646465\n"
     ]
    },
    {
     "data": {
      "application/vnd.jupyter.widget-view+json": {
       "model_id": "9b83060e383e4bd890279b3c9fd0ad75",
       "version_major": 2,
       "version_minor": 0
      },
      "text/plain": [
       "Outer CV:   0%|          | 0/10 [00:00<?, ?it/s]"
      ]
     },
     "metadata": {},
     "output_type": "display_data"
    },
    {
     "name": "stdout",
     "output_type": "stream",
     "text": [
      "mean of best alphas:  141.82345454545458\n",
      "max of best alphas:  187.88252525252523\n",
      "min of best alphas:  84.85565656565657\n",
      "\n",
      "=== Results for DV: socialrole ===\n",
      "MSE (Reduced): 0.9842\n",
      "MSE (Full):    0.9632\n",
      "Difference (Full - Reduced): -0.0209\n",
      "T-statistic = -3.136, P-value = 0.0009\n"
     ]
    }
   ],
   "source": [
    "# Social Role Constraints\n",
    "alphas = np.linspace(0.01, 300, 100)\n",
    "social_role = run_nestedCV(\n",
    "    data=dat, dv = 'socialrole', id_col = 'XID', numeric_full = ivs+demos_num, categorical_full = demos_cat, \n",
    "    numeric_reduced = demos_num, categorical_reduced = demos_cat, alphas = alphas, save_path='cv_errors')"
   ]
  },
  {
   "cell_type": "code",
   "execution_count": 11,
   "id": "59fd0d84",
   "metadata": {},
   "outputs": [
    {
     "data": {
      "application/vnd.jupyter.widget-view+json": {
       "model_id": "78e4c6345b934bce903486d611e0539d",
       "version_major": 2,
       "version_minor": 0
      },
      "text/plain": [
       "Outer CV:   0%|          | 0/10 [00:00<?, ?it/s]"
      ]
     },
     "metadata": {},
     "output_type": "display_data"
    },
    {
     "name": "stdout",
     "output_type": "stream",
     "text": [
      "mean of best alphas:  10.86641414141414\n",
      "max of best alphas:  13.138686868686868\n",
      "min of best alphas:  6.574343434343434\n"
     ]
    },
    {
     "data": {
      "application/vnd.jupyter.widget-view+json": {
       "model_id": "affe616905bc47d3ad5b15a57f098946",
       "version_major": 2,
       "version_minor": 0
      },
      "text/plain": [
       "Outer CV:   0%|          | 0/10 [00:00<?, ?it/s]"
      ]
     },
     "metadata": {},
     "output_type": "display_data"
    },
    {
     "name": "stdout",
     "output_type": "stream",
     "text": [
      "mean of best alphas:  18.390161616161617\n",
      "max of best alphas:  21.722828282828285\n",
      "min of best alphas:  11.118888888888888\n",
      "\n",
      "=== Results for DV: info ===\n",
      "MSE (Reduced): 0.9377\n",
      "MSE (Full):    0.9351\n",
      "Difference (Full - Reduced): -0.0025\n",
      "T-statistic = -0.462, P-value = 0.3221\n"
     ]
    }
   ],
   "source": [
    "# Informational Support\n",
    "alphas = np.linspace(0.01, 50, 100)\n",
    "informational_support = run_nestedCV(\n",
    "    data=dat, dv = 'info', id_col = 'XID', numeric_full = ivs+demos_num, categorical_full = demos_cat, \n",
    "    numeric_reduced = demos_num, categorical_reduced = demos_cat, alphas = alphas, save_path='cv_errors')"
   ]
  },
  {
   "cell_type": "code",
   "execution_count": 12,
   "id": "630c011f",
   "metadata": {},
   "outputs": [
    {
     "data": {
      "application/vnd.jupyter.widget-view+json": {
       "model_id": "9f89d8e8468d43db8923839f54053dae",
       "version_major": 2,
       "version_minor": 0
      },
      "text/plain": [
       "Outer CV:   0%|          | 0/10 [00:00<?, ?it/s]"
      ]
     },
     "metadata": {},
     "output_type": "display_data"
    },
    {
     "name": "stdout",
     "output_type": "stream",
     "text": [
      "mean of best alphas:  9.351565656565658\n",
      "max of best alphas:  12.633737373737373\n",
      "min of best alphas:  7.0792929292929285\n"
     ]
    },
    {
     "data": {
      "application/vnd.jupyter.widget-view+json": {
       "model_id": "56f164052a284eb2a6292fbbc97fe96a",
       "version_major": 2,
       "version_minor": 0
      },
      "text/plain": [
       "Outer CV:   0%|          | 0/10 [00:00<?, ?it/s]"
      ]
     },
     "metadata": {},
     "output_type": "display_data"
    },
    {
     "name": "stdout",
     "output_type": "stream",
     "text": [
      "mean of best alphas:  20.3089696969697\n",
      "max of best alphas:  28.792121212121213\n",
      "min of best alphas:  16.673333333333336\n",
      "\n",
      "=== Results for DV: emo ===\n",
      "MSE (Reduced): 0.9573\n",
      "MSE (Full):    0.9509\n",
      "Difference (Full - Reduced): -0.0063\n",
      "T-statistic = -0.970, P-value = 0.1660\n"
     ]
    }
   ],
   "source": [
    "# Emotional Support\n",
    "alphas = np.linspace(0.01, 50, 100)\n",
    "emotional_support = run_nestedCV(\n",
    "    data=dat, dv = 'emo', id_col = 'XID', numeric_full = ivs+demos_num, categorical_full = demos_cat, \n",
    "    numeric_reduced = demos_num, categorical_reduced = demos_cat, alphas = alphas, save_path='cv_errors')"
   ]
  },
  {
   "cell_type": "code",
   "execution_count": 13,
   "id": "e76a9003",
   "metadata": {},
   "outputs": [
    {
     "data": {
      "application/vnd.jupyter.widget-view+json": {
       "model_id": "7cd75b0a1ea1427da77c4000bcc225ea",
       "version_major": 2,
       "version_minor": 0
      },
      "text/plain": [
       "Outer CV:   0%|          | 0/10 [00:00<?, ?it/s]"
      ]
     },
     "metadata": {},
     "output_type": "display_data"
    },
    {
     "name": "stdout",
     "output_type": "stream",
     "text": [
      "mean of best alphas:  4.974727272727273\n",
      "max of best alphas:  5.56\n",
      "min of best alphas:  4.248181818181818\n"
     ]
    },
    {
     "data": {
      "application/vnd.jupyter.widget-view+json": {
       "model_id": "0a7f72b6bbcb4e6db30c27ae2165ecb4",
       "version_major": 2,
       "version_minor": 0
      },
      "text/plain": [
       "Outer CV:   0%|          | 0/10 [00:00<?, ?it/s]"
      ]
     },
     "metadata": {},
     "output_type": "display_data"
    },
    {
     "name": "stdout",
     "output_type": "stream",
     "text": [
      "mean of best alphas:  8.193727272727271\n",
      "max of best alphas:  9.293636363636363\n",
      "min of best alphas:  7.376363636363636\n",
      "\n",
      "=== Results for DV: ins ===\n",
      "MSE (Reduced): 0.8453\n",
      "MSE (Full):    0.8407\n",
      "Difference (Full - Reduced): -0.0046\n",
      "T-statistic = -0.776, P-value = 0.2190\n"
     ]
    }
   ],
   "source": [
    "# Instrumental Support\n",
    "alphas = np.linspace(0.01, 10, 100)\n",
    "instrumental_support = run_nestedCV(\n",
    "    data=dat, dv = 'ins', id_col = 'XID', numeric_full = ivs+demos_num, categorical_full = demos_cat, \n",
    "    numeric_reduced = demos_num, categorical_reduced = demos_cat, alphas = alphas, save_path='cv_errors')"
   ]
  },
  {
   "cell_type": "code",
   "execution_count": 14,
   "id": "26fb2261",
   "metadata": {},
   "outputs": [
    {
     "data": {
      "application/vnd.jupyter.widget-view+json": {
       "model_id": "3df584a9072c486fa4c20dfc37e55663",
       "version_major": 2,
       "version_minor": 0
      },
      "text/plain": [
       "Outer CV:   0%|          | 0/10 [00:00<?, ?it/s]"
      ]
     },
     "metadata": {},
     "output_type": "display_data"
    },
    {
     "name": "stdout",
     "output_type": "stream",
     "text": [
      "mean of best alphas:  206.06854545454547\n",
      "max of best alphas:  272.73454545454547\n",
      "min of best alphas:  171.72545454545454\n"
     ]
    },
    {
     "data": {
      "application/vnd.jupyter.widget-view+json": {
       "model_id": "c7d7cd1894a34fee9c47518b06f2d669",
       "version_major": 2,
       "version_minor": 0
      },
      "text/plain": [
       "Outer CV:   0%|          | 0/10 [00:00<?, ?it/s]"
      ]
     },
     "metadata": {},
     "output_type": "display_data"
    },
    {
     "name": "stdout",
     "output_type": "stream",
     "text": [
      "mean of best alphas:  368.69318181818187\n",
      "max of best alphas:  464.6518181818182\n",
      "min of best alphas:  262.63363636363636\n",
      "\n",
      "=== Results for DV: iso ===\n",
      "MSE (Reduced): 0.9759\n",
      "MSE (Full):    0.9661\n",
      "Difference (Full - Reduced): -0.0099\n",
      "T-statistic = -1.841, P-value = 0.0329\n"
     ]
    }
   ],
   "source": [
    "# Isolation\n",
    "alphas = np.linspace(0.01, 1000, 100)\n",
    "isolation = run_nestedCV(\n",
    "    data=dat, dv = 'iso', id_col = 'XID', numeric_full = ivs+demos_num, categorical_full = demos_cat, \n",
    "    numeric_reduced = demos_num, categorical_reduced = demos_cat, alphas = alphas, save_path='cv_errors')"
   ]
  },
  {
   "cell_type": "code",
   "execution_count": 15,
   "id": "ae59681f",
   "metadata": {},
   "outputs": [
    {
     "data": {
      "application/vnd.jupyter.widget-view+json": {
       "model_id": "f1d559ee2f9e4005816a9d919bb70857",
       "version_major": 2,
       "version_minor": 0
      },
      "text/plain": [
       "Outer CV:   0%|          | 0/10 [00:00<?, ?it/s]"
      ]
     },
     "metadata": {},
     "output_type": "display_data"
    },
    {
     "name": "stdout",
     "output_type": "stream",
     "text": [
      "mean of best alphas:  337.3803636363636\n",
      "max of best alphas:  454.5509090909091\n",
      "min of best alphas:  242.4318181818182\n"
     ]
    },
    {
     "data": {
      "application/vnd.jupyter.widget-view+json": {
       "model_id": "1e8690c77832487aa91e0bbf4b0154ad",
       "version_major": 2,
       "version_minor": 0
      },
      "text/plain": [
       "Outer CV:   0%|          | 0/10 [00:00<?, ?it/s]"
      ]
     },
     "metadata": {},
     "output_type": "display_data"
    },
    {
     "name": "stdout",
     "output_type": "stream",
     "text": [
      "mean of best alphas:  576.7719090909092\n",
      "max of best alphas:  717.1745454545455\n",
      "min of best alphas:  484.8536363636364\n",
      "\n",
      "=== Results for DV: dep ===\n",
      "MSE (Reduced): 0.9808\n",
      "MSE (Full):    0.9707\n",
      "Difference (Full - Reduced): -0.0100\n",
      "T-statistic = -2.302, P-value = 0.0107\n"
     ]
    }
   ],
   "source": [
    "# Depression\n",
    "alphas = np.linspace(0.01, 1000, 100)\n",
    "depression = run_nestedCV(\n",
    "    data=dat, dv = 'dep', id_col = 'XID', numeric_full = ivs+demos_num, categorical_full = demos_cat, \n",
    "    numeric_reduced = demos_num, categorical_reduced = demos_cat, alphas = alphas, save_path='cv_errors')"
   ]
  },
  {
   "cell_type": "code",
   "execution_count": 16,
   "id": "c98ce439",
   "metadata": {},
   "outputs": [
    {
     "data": {
      "application/vnd.jupyter.widget-view+json": {
       "model_id": "fa5f89f98c3c41919db7ccfc59d0c1bb",
       "version_major": 2,
       "version_minor": 0
      },
      "text/plain": [
       "Outer CV:   0%|          | 0/10 [00:00<?, ?it/s]"
      ]
     },
     "metadata": {},
     "output_type": "display_data"
    },
    {
     "name": "stdout",
     "output_type": "stream",
     "text": [
      "mean of best alphas:  454.55242424242425\n",
      "max of best alphas:  530.3094949494949\n",
      "min of best alphas:  378.7953535353535\n"
     ]
    },
    {
     "data": {
      "application/vnd.jupyter.widget-view+json": {
       "model_id": "be98acca303d464aa7c6e84b0c7c8392",
       "version_major": 2,
       "version_minor": 0
      },
      "text/plain": [
       "Outer CV:   0%|          | 0/10 [00:00<?, ?it/s]"
      ]
     },
     "metadata": {},
     "output_type": "display_data"
    },
    {
     "name": "stdout",
     "output_type": "stream",
     "text": [
      "mean of best alphas:  757.580707070707\n",
      "max of best alphas:  984.8519191919193\n",
      "min of best alphas:  545.4609090909091\n",
      "\n",
      "=== Results for DV: anx ===\n",
      "MSE (Reduced): 0.9849\n",
      "MSE (Full):    0.9792\n",
      "Difference (Full - Reduced): -0.0057\n",
      "T-statistic = -1.499, P-value = 0.0669\n"
     ]
    }
   ],
   "source": [
    "# Anxiety\n",
    "alphas = np.linspace(0.01, 1500, 100)\n",
    "anxiety = run_nestedCV(\n",
    "    data=dat, dv = 'anx', id_col = 'XID', numeric_full = ivs+demos_num, categorical_full = demos_cat, \n",
    "    numeric_reduced = demos_num, categorical_reduced = demos_cat, alphas = alphas, save_path='cv_errors')"
   ]
  },
  {
   "cell_type": "code",
   "execution_count": 17,
   "id": "7913b9e4",
   "metadata": {},
   "outputs": [
    {
     "data": {
      "application/vnd.jupyter.widget-view+json": {
       "model_id": "f004220acaa746d3a402e67b1bdab143",
       "version_major": 2,
       "version_minor": 0
      },
      "text/plain": [
       "Outer CV:   0%|          | 0/10 [00:00<?, ?it/s]"
      ]
     },
     "metadata": {},
     "output_type": "display_data"
    },
    {
     "name": "stdout",
     "output_type": "stream",
     "text": [
      "mean of best alphas:  23.439656565656566\n",
      "max of best alphas:  28.792121212121213\n",
      "min of best alphas:  16.673333333333336\n"
     ]
    },
    {
     "data": {
      "application/vnd.jupyter.widget-view+json": {
       "model_id": "98cc5cc34cba4d99beb3ad3c4e2e2417",
       "version_major": 2,
       "version_minor": 0
      },
      "text/plain": [
       "Outer CV:   0%|          | 0/10 [00:00<?, ?it/s]"
      ]
     },
     "metadata": {},
     "output_type": "display_data"
    },
    {
     "name": "stdout",
     "output_type": "stream",
     "text": [
      "mean of best alphas:  35.40695959595959\n",
      "max of best alphas:  46.97030303030303\n",
      "min of best alphas:  24.752525252525253\n",
      "\n",
      "=== Results for DV: ang ===\n",
      "MSE (Reduced): 0.9820\n",
      "MSE (Full):    0.9855\n",
      "Difference (Full - Reduced): 0.0036\n",
      "T-statistic = 0.913, P-value = 0.8192\n"
     ]
    }
   ],
   "source": [
    "# Anger\n",
    "alphas = np.linspace(0.01, 50, 100)\n",
    "anger = run_nestedCV(\n",
    "    data=dat, dv = 'ang', id_col = 'XID', numeric_full = ivs+demos_num, categorical_full = demos_cat, \n",
    "    numeric_reduced = demos_num, categorical_reduced = demos_cat, alphas = alphas, save_path='cv_errors')"
   ]
  }
 ],
 "metadata": {
  "kernelspec": {
   "display_name": "base",
   "language": "python",
   "name": "python3"
  },
  "language_info": {
   "codemirror_mode": {
    "name": "ipython",
    "version": 3
   },
   "file_extension": ".py",
   "mimetype": "text/x-python",
   "name": "python",
   "nbconvert_exporter": "python",
   "pygments_lexer": "ipython3",
   "version": "3.12.7"
  }
 },
 "nbformat": 4,
 "nbformat_minor": 5
}
